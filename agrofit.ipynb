{
 "cells": [
  {
   "cell_type": "code",
   "execution_count": 1,
   "metadata": {},
   "outputs": [],
   "source": [
    "import pandas as pd"
   ]
  },
  {
   "cell_type": "code",
   "execution_count": 4,
   "metadata": {},
   "outputs": [],
   "source": [
    "url = \"http://dados.agricultura.gov.br/dataset/6c913699-e82e-4da3-a0a1-fb6c431e367f/resource/d30b30d7-e256-484e-9ab8-cd40974e1238/download/agrofitprodutosformulados20210118151251161755.csv\"\n",
    "agrofit = pd.read_csv(url,sep=';')"
   ]
  },
  {
   "cell_type": "code",
   "execution_count": 14,
   "metadata": {},
   "outputs": [],
   "source": [
    "agrofit.columns = ['Nº Registro', 'Marca Comercial', 'Formulação', 'Grupo Quimico', 'Titular de Registro', 'Classe', 'Modo de Ação', 'Cultura', 'Praga - Nome C', 'Praga - Nome C','Empresa','Classe Toxicologica', 'Classe Ambiental', 'Orgânico', 'Situacao']"
   ]
  },
  {
   "cell_type": "code",
   "execution_count": 34,
   "metadata": {},
   "outputs": [],
   "source": [
    "empresas = agrofit[agrofit['Cultura'] == 'Soja']['Empresa'].drop_duplicates()"
   ]
  },
  {
   "cell_type": "code",
   "execution_count": 40,
   "metadata": {},
   "outputs": [
    {
     "data": {
      "text/plain": [
       "3         (Syngenta Protec?o de Cultivos Ltda. - Paulini...\n",
       "53        (Shandong Weifang Rainbow Chemical Co., Ltd. -...\n",
       "138       (Prentiss Quimica Ltda. - Campo Largo/PR<BRASI...\n",
       "190       (Shandong Weifang Rainbow Chemical Co., Ltd. -...\n",
       "263       (Atanor S.C.A  - San Nicolas - Buenos Aires<AR...\n",
       "                                ...                        \n",
       "123137    (Lanxess Industria de Poliuretanos e Lubrifica...\n",
       "123149    (Zibo Nab Agrochemicals Limited - Zibo<CHINA, ...\n",
       "123174    (Syngenta Protec?o de Cultivos Ltda. - Paulini...\n",
       "123225    (FMC Quimica do Brasil Ltda - Uberaba/MG Fabri...\n",
       "123251    (Ningbo Sunjoy Agroscience Co., Ltd.<CHINA, RE...\n",
       "Name: Empresa, Length: 989, dtype: object"
      ]
     },
     "execution_count": 40,
     "metadata": {},
     "output_type": "execute_result"
    }
   ],
   "source": [
    "empresas"
   ]
  }
 ],
 "metadata": {
  "kernelspec": {
   "display_name": "Python 3",
   "language": "python",
   "name": "python3"
  },
  "language_info": {
   "codemirror_mode": {
    "name": "ipython",
    "version": 3
   },
   "file_extension": ".py",
   "mimetype": "text/x-python",
   "name": "python",
   "nbconvert_exporter": "python",
   "pygments_lexer": "ipython3",
   "version": "3.7.4"
  }
 },
 "nbformat": 4,
 "nbformat_minor": 2
}
